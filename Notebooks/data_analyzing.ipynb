{
 "cells": [
  {
   "cell_type": "code",
   "execution_count": 10,
   "metadata": {},
   "outputs": [],
   "source": [
    "import torch, re\n",
    "from math import floor\n",
    "import pandas as pd\n",
    "import numpy as np\n",
    "from sklearn.preprocessing import RobustScaler\n",
    "from sklearn.feature_selection import SelectKBest, f_regression\n",
    "\n",
    "from AnalyzeTools.preprocess import preprocessData\n",
    "from AnalyzeTools.superModels import DEEPAR, TFT, RNN\n",
    "\n",
    "params_path = './Models'"
   ]
  },
  {
   "cell_type": "markdown",
   "metadata": {},
   "source": [
    "# 가격 데이터"
   ]
  },
  {
   "cell_type": "markdown",
   "metadata": {},
   "source": [
    "- 소\n",
    "1. ./beef/경략가격집계 - 소,돼지.csv\n",
    "2. ./beef/축산유통정보 - 소비자가격.csv\n",
    "3. ./beef/축평원_소 수입 소매가격.xlsx\n",
    "4. ./beef/축평원_한우 소매가격(등심∙설도, 1등급 기준).xlsx\n",
    "\n",
    "- 돼지\n",
    "1. ./pork/(중)경략가격집계 - 소,돼지.csv\n",
    "2. /pork/(중)축산유통정보 - 소비자가격.csv\n",
    "3. /pork/축평원_돼지 삼겹살 소매가격.xlsx\n",
    "4. /pork/축평원_돼지수입 삼겹살 소매가격.xlsx"
   ]
  },
  {
   "cell_type": "markdown",
   "metadata": {},
   "source": [
    "# (중)경략가격집계 - 소,돼지.csv --> Predict 돼지 온도체"
   ]
  },
  {
   "cell_type": "code",
   "execution_count": 2,
   "metadata": {},
   "outputs": [],
   "source": [
    "# ''' Read data '''\n",
    "# raw_file_name = '경략가격집계 - 소,돼지'\n",
    "# product = \"pork-hot\"\n",
    "# product_attribute = \"경락가격\"\n",
    "\n",
    "# _output = 'MAX_COST_AMT' # MIN_COST_AMT\n",
    "# default_exclude_cols = ['JUDGE_GUBN', 'JUDGE_BREED', 'JUDGE_SEX', 'SABLE_GUBN', 'ABATT_CODE']\n",
    "\n",
    "# df = pd.read_csv('../Data/pork/경략가격집계 - 소,돼지.csv', encoding = 'euc_kr', engine ='python').query(\"JUDGE_KIND == 2\")\n",
    "\n",
    "# df = df.drop(default_exclude_cols, axis=1)\n",
    "# df = df.groupby(['STD_DATE']).mean().reset_index()\n",
    "# df['STD_DATE'] = df['STD_DATE'].apply(lambda x: \"20\" + \"-\".join(x.split(\"/\")))\n",
    "\n",
    "# df, _input = preprocessData(df, 'STD_DATE', _output)"
   ]
  },
  {
   "cell_type": "markdown",
   "metadata": {},
   "source": [
    "# 경략가격집계 - 소,돼지.csv --> Predict 돼지 냉도체"
   ]
  },
  {
   "cell_type": "code",
   "execution_count": 3,
   "metadata": {},
   "outputs": [],
   "source": [
    "# ''' Read data '''\n",
    "# params_path = './Models'\n",
    "# raw_file_name = '경략가격집계 - 소,돼지'\n",
    "# product = \"pork-ice\"\n",
    "# product_attribute = \"경락가격\"\n",
    "\n",
    "# _output = 'MAX_COST_AMT' # MIN_COST_AMT\n",
    "# default_exclude_cols = ['JUDGE_GUBN', 'JUDGE_BREED', 'JUDGE_SEX', 'SABLE_GUBN', 'ABATT_CODE']\n",
    "\n",
    "# df = pd.read_csv('../Data/pork/경략가격집계 - 소,돼지.csv', encoding = 'euc_kr', engine ='python').query(\"JUDGE_KIND == 5\")\n",
    "\n",
    "# df = df.drop(default_exclude_cols, axis=1)\n",
    "# df = df.groupby(['STD_DATE']).mean().reset_index()\n",
    "# df['STD_DATE'] = df['STD_DATE'].apply(lambda x: \"20\" + \"-\".join(x.split(\"/\")))\n",
    "\n",
    "# df, _input = preprocessData(df, 'STD_DATE', _output)"
   ]
  },
  {
   "cell_type": "markdown",
   "metadata": {},
   "source": [
    "# (중)축산유통정보 - 소비자가격.csv --> Predict 돼지갈비(CTSED_CODE == 4304)"
   ]
  },
  {
   "cell_type": "code",
   "execution_count": 4,
   "metadata": {},
   "outputs": [],
   "source": [
    "# ''' Read data '''\n",
    "# raw_file_name = '(중)축산유통정보 - 소비자가격'\n",
    "# product = \"pork-hot\"\n",
    "# product_attribute = \"경락가격\"\n",
    "\n",
    "# _output = 'DLPC' # MIN_COST_AMT\n",
    "# default_exclude_cols = [\n",
    "#     'SN', 'INPUT_MTHD_CODE', 'ENTRP_CODE', 'PRDLST_CODE', 'GRAD_CODE', 'GOODS_TPCD', 'GOODS_NM',\n",
    "#     'UNIT', 'HIST_NO', 'PRICE_ERROR_YN', 'LNM', 'USE_YN', 'REGISTER', 'REGISTER_ID', 'UPDUSR', \n",
    "#     'UPDUSR_ID', 'UPDDE', 'TRN_ID', 'MSG_ID', 'TRN_STATS', 'ERROR_REASON', 'KEYWORD_ERROR_YN', \n",
    "#     'PCFLT_TIME', 'RGSDE', 'TRN_MSG', 'INSPECT_YN', 'INSPECT_DATE', 'INSPECT_YN2', 'INSPECT_DATE2', \n",
    "#     'BMS_NO', 'MGR_ABATT_CODE', 'ABATT_CODE', 'POSTN_SPRT_CODE'\n",
    "# ]\n",
    "\n",
    "# df = pd.read_csv('../Data/pork/(중)축산유통정보 - 소비자가격.csv', encoding = 'euc_kr', engine ='python')\n",
    "\n",
    "# df = df.drop(default_exclude_cols, axis=1).query(\"CTSED_CODE == 4304\") # specific 품종\n",
    "\n",
    "# df = df.groupby(['TRN_DT']).mean().reset_index()\n",
    "# df['TRN_DT'] = df['TRN_DT'].apply(lambda x: \"20\" + \"-\".join(x.split(\"/\")))\n",
    "\n",
    "# df, _input = preprocessData(df, 'TRN_DT', _output)\n"
   ]
  },
  {
   "cell_type": "markdown",
   "metadata": {},
   "source": [
    "# 축평원_돼지 삼겹살 소매가격.xlsx -> Predict 돼지_삼겹살 소매가격"
   ]
  },
  {
   "cell_type": "code",
   "execution_count": 5,
   "metadata": {},
   "outputs": [
    {
     "name": "stdout",
     "output_type": "stream",
     "text": [
      "There are too few features in the data. The raw data features will be used.\n"
     ]
    }
   ],
   "source": [
    "# ''' Read data '''\n",
    "# raw_file_name = '축평원_돼지 삼겹살 소매가격' \n",
    "# product = \"삼겹살\"\n",
    "# product_attribute = \"소매가격\"\n",
    "\n",
    "# _output = '평균'\n",
    "# default_exclude_cols = []\n",
    "\n",
    "# df = pd.read_excel(f'../Data/pork/{raw_file_name}.xlsx', '돼지_삼겹살 소매가격').iloc[1:, :5]\n",
    "\n",
    "# df.columns = ['year', 'month-day', '평균', '최고', '최저']\n",
    "\n",
    "# df['year'] = df['year'].interpolate(method='pad')\n",
    "# df['date'] = df['year'] + \" \" + df['month-day']\n",
    "# df['date'] = df['date'].apply(lambda x: '-'.join(re.findall(\"\\d+\", x)))\n",
    "\n",
    "# df = df[['date', '평균', '최고', '최저']]\n",
    "\n",
    "# df = df.groupby(['date']).mean().reset_index()\n",
    "# df, _input = preprocessData(df, 'date', _output)"
   ]
  },
  {
   "cell_type": "markdown",
   "metadata": {},
   "source": [
    "# 축평원_돼지수입 삼겹살 소매가격.xlsx -> Predict 수입돼지고기 소비자가격"
   ]
  },
  {
   "cell_type": "code",
   "execution_count": 12,
   "metadata": {},
   "outputs": [
    {
     "name": "stdout",
     "output_type": "stream",
     "text": [
      "There are too few features in the data. The raw data features will be used.\n"
     ]
    }
   ],
   "source": [
    "# ''' Read data '''\n",
    "# raw_file_name = '축평원_돼지수입 삼겹살 소매가격' \n",
    "# product = \"수입_돼지고기\"\n",
    "# product_attribute = \"소매가격\"\n",
    "\n",
    "# _output = '평균'\n",
    "# default_exclude_cols = []\n",
    "\n",
    "# df = pd.read_excel(f'../Data/pork/{raw_file_name}.xlsx', 'Sheet1').iloc[1:, :5]\n",
    "# df.columns = ['year', 'month-day', '평균', '최고', '최저']\n",
    "\n",
    "# df['year'] = df['year'].interpolate(method='pad')\n",
    "# df['date'] = df['year'] + \" \" + df['month-day']\n",
    "# df['date'] = df['date'].apply(lambda x: '-'.join(re.findall(\"\\d+\", x)))\n",
    "\n",
    "# df = df[['date', '평균', '최고', '최저']]\n",
    "\n",
    "# df = df.groupby(['date']).mean().reset_index()\n",
    "\n",
    "# df, _input = preprocessData(df, 'date', _output)"
   ]
  },
  {
   "cell_type": "markdown",
   "metadata": {},
   "source": [
    "# 경략가격집계 - 소,돼지.csv --> Predict 소"
   ]
  },
  {
   "cell_type": "code",
   "execution_count": null,
   "metadata": {},
   "outputs": [],
   "source": [
    "# ''' Read data '''\n",
    "# params_path = './Models'\n",
    "# raw_file_name = '경략가격집계 - 소,돼지'\n",
    "# product = \"beef\"\n",
    "# product_attribute = \"경락가격\"\n",
    "\n",
    "# _output = 'MAX_COST_AMT' # MIN_COST_AMT\n",
    "# default_exclude_cols = ['JUDGE_GUBN', 'JUDGE_BREED', 'JUDGE_SEX', 'SABLE_GUBN', 'ABATT_CODE']\n",
    "\n",
    "# df = pd.read_csv('../Data/beef/경략가격집계 - 소,돼지.csv', encoding = 'euc_kr', engine ='python').query(\"JUDGE_KIND == 1\")\n",
    "\n",
    "# df = df.drop(default_exclude_cols, axis=1)\n",
    "# df = df.groupby(['STD_DATE']).mean().reset_index()\n",
    "# df['STD_DATE'] = df['STD_DATE'].apply(lambda x: \"20\" + \"-\".join(x.split(\"/\")))\n",
    "\n",
    "# df, _input = preprocessData(df, 'STD_DATE', _output)"
   ]
  },
  {
   "cell_type": "markdown",
   "metadata": {},
   "source": [
    "# 농협축산정보센터_월별 한우 산지가격.xlsx --> Predict 한우"
   ]
  },
  {
   "cell_type": "code",
   "execution_count": null,
   "metadata": {},
   "outputs": [],
   "source": [
    "# ''' Read data '''\n",
    "# params_path = './Models'\n",
    "# raw_file_name = '농협축산정보센터_월별 한우 산지가격' \n",
    "# product = \"Korea_beef\"\n",
    "# product_attribute = \"산지가격\"\n",
    "\n",
    "# _output = '산지가격' # MIN_COST_AMT\n",
    "# default_exclude_cols = []\n",
    "\n",
    "# df1 = pd.read_excel(f'../Data/beef/{raw_file_name}.xlsx', '1999-2009')\n",
    "# df1 = df1[df1.columns[:9]][3:]\n",
    "# df1 = df1.replace(0, np.nan)\n",
    "# df1.rename(columns={'구분': 'date'}, inplace=True)\n",
    "\n",
    "# df2 = pd.read_excel(f'../Data/beef/{raw_file_name}.xlsx', '2010-2022')\n",
    "# df2 = df2[df2.columns[:9]][3:]\n",
    "# df2 = df2.replace(0, np.nan)\n",
    "# df2.rename(columns={'구분': 'date'}, inplace=True)\n",
    "\n",
    "# df1[df1.columns[1:]] = df1[df1.columns[1:]].interpolate(method='linear', limit_direction='both')\n",
    "# df2[df2.columns[1:]] = df2[df2.columns[1:]].interpolate(method='linear', limit_direction='both')\n",
    "\n",
    "# df1['산지가격'] = df1[df1.columns[1:]].mean(axis=1)\n",
    "# df2['산지가격'] = df2[df2.columns[1:]].mean(axis=1)\n",
    "\n",
    "# df1 = df1[['date', _output]]\n",
    "# df2 = df2[['date', _output]]\n",
    "\n",
    "# df = pd.concat((df1, df2), axis=0)\n",
    "# del df1, df2\n",
    "\n",
    "# df['date'] = pd.to_datetime(df['date'])\n",
    "# df = df.sort_values('date')\n",
    "# df.index = range(len(df))\n",
    "\n",
    "# df = df.drop(default_exclude_cols, axis=1)\n",
    "# df = df.groupby(['date']).mean().reset_index()\n",
    "\n",
    "# df, _input = preprocessData(df, 'date', _output)\n",
    "\n",
    "# group = ['group']\n",
    "# time_varying_known_categoricals = ['month', 'week']\n",
    "# time_varying_unknown_categoricals = []\n",
    "# time_varying_known_reals = ['time_idx']\n",
    "# time_varying_unknown_reals = _input + [_output]"
   ]
  },
  {
   "cell_type": "markdown",
   "metadata": {},
   "source": [
    "# 축산유통정보 - 소비자가격.csv --> Predict 소"
   ]
  },
  {
   "cell_type": "code",
   "execution_count": null,
   "metadata": {},
   "outputs": [],
   "source": [
    "# # 축산유통정보 - 소비자가격.csv\n",
    "\n",
    "# ''' Read data '''\n",
    "# params_path = './Models'\n",
    "# raw_file_name = '축산유통정보 - 소비자가격'\n",
    "# product = \"beef\"\n",
    "# product_attribute = \"소비자가격\"\n",
    "\n",
    "# _output = 'DLPC' \n",
    "\n",
    "# df = pd.read_csv('../Data/beef/축산유통정보 - 소비자가격.csv', encoding = 'euc_kr', engine ='python')\n",
    "\n",
    "# default_exclude_cols = [\n",
    "#     'SN', 'INPUT_MTHD_CODE', 'ENTRP_CODE', 'PRDLST_CODE', 'GRAD_CODE', 'GOODS_TPCD', 'GOODS_NM',\n",
    "#     'UNIT', 'HIST_NO', 'PRICE_ERROR_YN', 'LNM', 'USE_YN', 'REGISTER', 'REGISTER_ID', 'UPDUSR', \n",
    "#     'UPDUSR_ID', 'UPDDE', 'TRN_ID', 'MSG_ID', 'TRN_STATS', 'ERROR_REASON', 'KEYWORD_ERROR_YN', \n",
    "#     'PCFLT_TIME', 'RGSDE', 'TRN_MSG', 'INSPECT_YN', 'INSPECT_DATE', 'INSPECT_YN2', 'INSPECT_DATE2', \n",
    "#     'BMS_NO', 'MGR_ABATT_CODE', 'ABATT_CODE', 'POSTN_SPRT_CODE'\n",
    "# ]\n",
    "# df = df.drop(default_exclude_cols, axis=1).query(\"CTSED_CODE == 4301\") # specific 품종\n",
    "\n",
    "# df = df.groupby(['TRN_DT']).mean().reset_index()\n",
    "# df['TRN_DT'] = df['TRN_DT'].apply(lambda x: \"20\" + \"-\".join(x.split(\"/\")))\n",
    "\n",
    "# df, _input = preprocessData(df, 'TRN_DT', _output)"
   ]
  },
  {
   "cell_type": "markdown",
   "metadata": {},
   "source": [
    "# 축평원_소 수입 소매가격.xlsx --> Predict 미국산_갈비"
   ]
  },
  {
   "cell_type": "code",
   "execution_count": null,
   "metadata": {},
   "outputs": [],
   "source": [
    "# ''' Read data '''\n",
    "# raw_file_name = '축평원_소 수입 소매가격' \n",
    "# product = \"미국산_갈비\"\n",
    "# product_attribute = \"수입 소매가격\"\n",
    "\n",
    "# _output = '평균'\n",
    "# default_exclude_cols = []\n",
    "\n",
    "# df = pd.read_excel(f'../Data/beef/{raw_file_name}.xlsx', '미국산_갈비').iloc[1:, :5]\n",
    "# df.columns = ['year', 'month-day', '평균', '최고', '최저']\n",
    "\n",
    "# df['year'] = df['year'].interpolate(method='pad')\n",
    "# df['date'] = df['year'] + \" \" + df['month-day']\n",
    "# df['date'] = df['date'].apply(lambda x: '-'.join(re.findall(\"\\d+\", x)))\n",
    "\n",
    "# df = df[['date', '평균', '최고', '최저']]\n",
    "\n",
    "# df = df.groupby(['date']).mean().reset_index()\n",
    "\n",
    "# df, _input = preprocessData(df, 'date', _output)\n",
    "\n",
    "# group = ['group']\n",
    "# time_varying_known_categoricals = ['month', 'week']\n",
    "# time_varying_unknown_categoricals = []\n",
    "# time_varying_known_reals = ['time_idx']\n",
    "# time_varying_unknown_reals = _input + [_output]"
   ]
  },
  {
   "cell_type": "markdown",
   "metadata": {},
   "source": [
    "# 축평원_한우 소매가격(등심∙설도, 1등급 기준).xlsx --> 한우 등심 1+등급 소매가격"
   ]
  },
  {
   "cell_type": "code",
   "execution_count": null,
   "metadata": {},
   "outputs": [],
   "source": [
    "# ''' Read data '''\n",
    "# raw_file_name = '축평원_한우 소매가격(등심∙설도, 1등급 기준)' \n",
    "# product = \"한우 등심_1+등급\"\n",
    "# product_attribute = \"소매가격\"\n",
    "\n",
    "# _output = '평균'\n",
    "# default_exclude_cols = []\n",
    "\n",
    "# df = pd.read_excel(f'../Data/beef/{raw_file_name}.xlsx', '등심_1+등급').iloc[1:, :5]\n",
    "\n",
    "# df.columns = ['year', 'month-day', '평균', '최고', '최저']\n",
    "\n",
    "# df['year'] = df['year'].interpolate(method='pad')\n",
    "# df['date'] = df['year'] + \" \" + df['month-day']\n",
    "# df['date'] = df['date'].apply(lambda x: '-'.join(re.findall(\"\\d+\", x)))\n",
    "\n",
    "# df = df[['date', '평균', '최고', '최저']]\n",
    "\n",
    "# df = df.groupby(['date']).mean().reset_index()\n",
    "\n",
    "# df, _input = preprocessData(df, 'date', _output)\n",
    "\n",
    "# group = ['group']\n",
    "# time_varying_known_categoricals = ['month', 'week']\n",
    "# time_varying_unknown_categoricals = []\n",
    "# time_varying_known_reals = ['time_idx']\n",
    "# time_varying_unknown_reals = _input + [_output]"
   ]
  }
 ],
 "metadata": {
  "kernelspec": {
   "display_name": "Python 3.7.6 64-bit",
   "language": "python",
   "name": "python3"
  },
  "language_info": {
   "codemirror_mode": {
    "name": "ipython",
    "version": 3
   },
   "file_extension": ".py",
   "mimetype": "text/x-python",
   "name": "python",
   "nbconvert_exporter": "python",
   "pygments_lexer": "ipython3",
   "version": "3.7.6"
  },
  "orig_nbformat": 4,
  "vscode": {
   "interpreter": {
    "hash": "6f774c96c8c34c53ecd4c73b34542f198e825b7806220478caf5e39d6877a780"
   }
  }
 },
 "nbformat": 4,
 "nbformat_minor": 2
}
