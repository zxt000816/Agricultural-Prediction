{
 "cells": [
  {
   "cell_type": "code",
   "execution_count": 1,
   "metadata": {},
   "outputs": [
    {
     "name": "stderr",
     "output_type": "stream",
     "text": [
      "c:\\Users\\zyf13\\AppData\\Local\\Programs\\Python\\Python37\\lib\\site-packages\\tqdm\\auto.py:22: TqdmWarning: IProgress not found. Please update jupyter and ipywidgets. See https://ipywidgets.readthedocs.io/en/stable/user_install.html\n",
      "  from .autonotebook import tqdm as notebook_tqdm\n",
      "Global seed set to 123\n"
     ]
    }
   ],
   "source": [
    "import torch\n",
    "from math import floor\n",
    "import pandas as pd\n",
    "import numpy as np\n",
    "from sklearn.preprocessing import RobustScaler\n",
    "from sklearn.feature_selection import SelectKBest, f_regression\n",
    "\n",
    "from AnalyzeTools.models import autoregressive_integrated_moving_average, linear_regression, support_vector_regression, random_forest, gradient_boosting\n",
    "from AnalyzeTools.prepare import data_split, model_eval, pathForSavingModels\n",
    "from AnalyzeTools.preprocess import preprocessData\n",
    "from AnalyzeTools.superModels import DEEPAR, TFT, RNN"
   ]
  },
  {
   "cell_type": "markdown",
   "metadata": {},
   "source": [
    "# 경략가격집계 - 소,돼지.csv"
   ]
  },
  {
   "cell_type": "code",
   "execution_count": 2,
   "metadata": {},
   "outputs": [],
   "source": [
    "''' Read data '''\n",
    "params_path = './Models'\n",
    "raw_file_name = '경략가격집계 - 소,돼지'\n",
    "product = \"pork\"\n",
    "product_attribute = \"경락가격\"\n",
    "\n",
    "_output = 'MAX_COST_AMT' # MIN_COST_AMT\n",
    "default_exclude_cols = ['JUDGE_GUBN', 'JUDGE_BREED', 'JUDGE_SEX', 'SABLE_GUBN', 'ABATT_CODE']\n",
    "\n",
    "df = pd.read_csv('../Data/beef/경략가격집계 - 소,돼지.csv', encoding = 'euc_kr', engine ='python').query(\"JUDGE_KIND == 2\")"
   ]
  },
  {
   "cell_type": "code",
   "execution_count": 3,
   "metadata": {},
   "outputs": [
    {
     "name": "stdout",
     "output_type": "stream",
     "text": [
      "\n",
      "Feature scores:\n",
      "   {'CNT': 10.830940879245123, 'MIN_COST_AMT': 12225.92215065452, 'SUM_COST_AMT': 453.80333127638863, 'SUM_WEIGHT': 22.771022320410545, 'DEFECT_CNT': 10.847147039897516, 'DEFECT_MIN_COST_AMT': 12224.429538051429, 'DEFECT_MAX_COST_AMT': 68115742426.72451, 'DEFECT_SUM_COST_AMT': 453.74541708319583, 'DEFECT_SUM_WEIGHT': 22.79391001099421}\n",
      "\n",
      "TOP K features:\n",
      "   ['MIN_COST_AMT', 'SUM_COST_AMT', 'DEFECT_MIN_COST_AMT', 'DEFECT_MAX_COST_AMT']\n"
     ]
    }
   ],
   "source": [
    "df = df.drop(default_exclude_cols, axis=1)\n",
    "df = df.groupby(['STD_DATE']).mean().reset_index()\n",
    "df['STD_DATE'] = df['STD_DATE'].apply(lambda x: \"20\" + \"-\".join(x.split(\"/\")))\n",
    "\n",
    "df, _input = preprocessData(df, 'STD_DATE', _output)"
   ]
  },
  {
   "cell_type": "code",
   "execution_count": 5,
   "metadata": {},
   "outputs": [
    {
     "name": "stdout",
     "output_type": "stream",
     "text": [
      "X_train: (2037, 4) y_train: (2037,) X_test: (510, 4) y_test: (510,)\n",
      "\n",
      "ARIMA\n",
      "MAPE: 0.1267953273530041 R square: 0.16777411797042452\n",
      "\n",
      "Linear Regression\n",
      "MAPE: 0.045910604122508164 R square: 0.7887015528605147\n",
      "\n",
      "Support Vector Regression\n",
      "MAPE: 0.13013485895283466 R square: -0.0283453544534924\n",
      "\n",
      "Random Forest\n",
      "MAPE: 0.053341627870593246 R square: 0.733348560155897\n",
      "\n",
      "Gradient Boosting\n",
      "MAPE: 0.05635219573126297 R square: 0.6885893101210536\n"
     ]
    }
   ],
   "source": [
    "# prepare dataset for statistics and Macnhine models\n",
    "ml_split_params = {'Model': 'ML', 'Future': 1}\n",
    "X_train, X_test, y_train, y_test = data_split(df, input_cols=_input, output=_output, train_size=0.8, **ml_split_params)\n",
    "\n",
    "''' Input data into models and Evaluate model results '''\n",
    "ml_searchCV_params = {\n",
    "    'base_dir': params_path,\n",
    "    'product': product,\n",
    "    'attribute': product_attribute,\n",
    "    'raw': raw_file_name,\n",
    "    'save': True\n",
    "}\n",
    "stdout = True\n",
    "vis = False\n",
    "\n",
    "print(\"\\nARIMA\")\n",
    "arima = autoregressive_integrated_moving_average(y_train)\n",
    "model_eval(y_test, arima.predict(n_periods=len(y_test), return_conf_int=False, aplha=0.05), stdout=stdout, vis=vis)\n",
    "\n",
    "print(\"\\nLinear Regression\")\n",
    "lr, _ = linear_regression(X_train, y_train)\n",
    "model_eval(y_test, lr.predict(X_test), stdout=stdout, vis=vis)\n",
    "\n",
    "print(\"\\nSupport Vector Regression\")\n",
    "svr, _ = support_vector_regression(X_train, y_train, search=True, **ml_searchCV_params)\n",
    "model_eval(y_test, svr.predict(X_test), stdout=stdout, vis=vis)\n",
    "\n",
    "print(\"\\nRandom Forest\")\n",
    "rf, _ = random_forest(X_train, y_train, search=True, **ml_searchCV_params)\n",
    "model_eval(y_test, rf.predict(X_test), stdout=stdout, vis=vis)\n",
    "\n",
    "print(\"\\nGradient Boosting\")\n",
    "gb, _ = gradient_boosting(X_train, y_train, search=True, **ml_searchCV_params)\n",
    "model_eval(y_test, gb.predict(X_test), stdout=stdout, vis=vis)"
   ]
  },
  {
   "cell_type": "code",
   "execution_count": null,
   "metadata": {},
   "outputs": [],
   "source": [
    "data = df.copy()\n",
    "\n",
    "data['time_idx'] = range(len(data))\n",
    "data['group'] = product\n",
    "\n",
    "training_cutoff = floor(len(data) * 0.8)\n",
    "\n",
    "max_prediction_length = 1\n",
    "max_encoder_length = 30 # 7, 14, 30, 60, 120\n",
    "batch_size = 64\n",
    "\n",
    "group = ['group']\n",
    "time_varying_known_categoricals = ['month', 'week']\n",
    "time_varying_unknown_categoricals = []\n",
    "time_varying_known_reals = ['time_idx']\n",
    "time_varying_unknown_reals = _input + [_output]"
   ]
  },
  {
   "cell_type": "code",
   "execution_count": null,
   "metadata": {},
   "outputs": [],
   "source": [
    "print(\"\\nLSTM\")\n",
    "lstm, val_dataloader = RNN(\n",
    "    data,\n",
    "    training_cutoff,\n",
    "    _output,\n",
    "    group,\n",
    "    max_encoder_length,\n",
    "    max_prediction_length,\n",
    "    time_varying_known_categoricals,\n",
    "    time_varying_unknown_categoricals,\n",
    "    time_varying_known_reals,\n",
    "    batch_size,\n",
    "    pathForSavingModels(product, product_attribute, raw_file_name, 'LSTM'),\n",
    "    'LSTM'\n",
    ")\n",
    "\n",
    "actuals = torch.cat([y[0] for x, y in iter(val_dataloader)])\n",
    "predictions = lstm.predict(val_dataloader)\n",
    "\n",
    "model_eval(actuals, predictions, stdout=True, vis=True)"
   ]
  },
  {
   "cell_type": "code",
   "execution_count": null,
   "metadata": {},
   "outputs": [],
   "source": [
    "print(\"\\nGRU\")\n",
    "gru, val_dataloader = RNN(\n",
    "    data,\n",
    "    training_cutoff,\n",
    "    _output,\n",
    "    group,\n",
    "    max_encoder_length,\n",
    "    max_prediction_length,\n",
    "    time_varying_known_categoricals,\n",
    "    time_varying_unknown_categoricals,\n",
    "    time_varying_known_reals,\n",
    "    batch_size,\n",
    "    pathForSavingModels(product, product_attribute, raw_file_name, 'GRU'),\n",
    "    'GRU'\n",
    ")\n",
    "\n",
    "actuals = torch.cat([y[0] for x, y in iter(val_dataloader)])\n",
    "predictions = gru.predict(val_dataloader)\n",
    "\n",
    "model_eval(actuals, predictions, stdout=True, vis=True)"
   ]
  },
  {
   "cell_type": "code",
   "execution_count": null,
   "metadata": {},
   "outputs": [],
   "source": [
    "print(\"\\nTFT\")\n",
    "tft, val_dataloader = TFT(\n",
    "    data,\n",
    "    training_cutoff,\n",
    "    _output,\n",
    "    group,\n",
    "    max_encoder_length,\n",
    "    max_prediction_length,\n",
    "    time_varying_unknown_categoricals,\n",
    "    time_varying_known_categoricals,\n",
    "    time_varying_known_reals,\n",
    "    time_varying_unknown_reals,\n",
    "    batch_size,\n",
    "    pathForSavingModels(product, product_attribute, raw_file_name, 'TFT'),\n",
    ")\n",
    "\n",
    "actuals = torch.cat([y[0] for x, y in iter(val_dataloader)])\n",
    "predictions = tft.predict(val_dataloader)\n",
    "\n",
    "model_eval(actuals, predictions, stdout=True, vis=True)"
   ]
  },
  {
   "cell_type": "code",
   "execution_count": null,
   "metadata": {},
   "outputs": [],
   "source": [
    "print(\"\\nDeepAR\")\n",
    "deep_ar, val_dataloader = DEEPAR(\n",
    "    data,\n",
    "    training_cutoff,\n",
    "    _output,\n",
    "    group,\n",
    "    max_encoder_length,\n",
    "    max_prediction_length,\n",
    "    time_varying_known_categoricals,\n",
    "    time_varying_unknown_categoricals,\n",
    "    time_varying_known_reals,\n",
    "    batch_size,\n",
    "    pathForSavingModels(product, product_attribute, raw_file_name, 'DEEPAR'),\n",
    ")\n",
    "\n",
    "actuals = torch.cat([y[0] for x, y in iter(val_dataloader)])\n",
    "predictions = deep_ar.predict(val_dataloader)\n",
    "\n",
    "model_eval(actuals, predictions, stdout=True, vis=True)"
   ]
  }
 ],
 "metadata": {
  "kernelspec": {
   "display_name": "Python 3.7.6 64-bit",
   "language": "python",
   "name": "python3"
  },
  "language_info": {
   "codemirror_mode": {
    "name": "ipython",
    "version": 3
   },
   "file_extension": ".py",
   "mimetype": "text/x-python",
   "name": "python",
   "nbconvert_exporter": "python",
   "pygments_lexer": "ipython3",
   "version": "3.7.6"
  },
  "orig_nbformat": 4,
  "vscode": {
   "interpreter": {
    "hash": "6f774c96c8c34c53ecd4c73b34542f198e825b7806220478caf5e39d6877a780"
   }
  }
 },
 "nbformat": 4,
 "nbformat_minor": 2
}
