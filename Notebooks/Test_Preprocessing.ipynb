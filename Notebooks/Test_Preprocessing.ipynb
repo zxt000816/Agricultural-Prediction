{
 "cells": [
  {
   "cell_type": "code",
   "execution_count": 1,
   "metadata": {},
   "outputs": [
    {
     "name": "stderr",
     "output_type": "stream",
     "text": [
      "c:\\Users\\zyf13\\AppData\\Local\\Programs\\Python\\Python37\\lib\\site-packages\\tqdm\\auto.py:22: TqdmWarning: IProgress not found. Please update jupyter and ipywidgets. See https://ipywidgets.readthedocs.io/en/stable/user_install.html\n",
      "  from .autonotebook import tqdm as notebook_tqdm\n",
      "Global seed set to 123\n"
     ]
    }
   ],
   "source": [
    "import torch, json\n",
    "from math import floor\n",
    "import pandas as pd\n",
    "import numpy as np\n",
    "\n",
    "from FileManager.dataManager import dataManager\n",
    "from AnalyzeTools.models import autoregressive_integrated_moving_average, linear_regression, support_vector_regression, random_forest, gradient_boosting\n",
    "from AnalyzeTools.prepare import data_split, model_eval, pathForSavingModels\n",
    "from AnalyzeTools.superModels import DEEPAR, TFT, RNN\n",
    "from AnalyzeTools.preprocess import preprocessData\n",
    "\n"
   ]
  },
  {
   "cell_type": "code",
   "execution_count": 2,
   "metadata": {},
   "outputs": [],
   "source": [
    "period = 'Day'\n",
    "future_step = 14\n",
    "params_path = f'./Models/single/{period}_lead_{future_step}'\n",
    "train_size = 0.8\n",
    "product_object = json.load(open(\"./File information.json\", \"r\", encoding='utf8'))\n",
    "\n",
    "all_experiments= []\n",
    "for product in product_object.keys():\n",
    "    for raw_file_name in  product_object[product].keys():\n",
    "        for product_type in product_object[product][raw_file_name]['product_types']:\n",
    "            for target in product_object[product][raw_file_name]['targets']:\n",
    "                all_experiments.append([product, raw_file_name, product_type, target])"
   ]
  },
  {
   "cell_type": "code",
   "execution_count": 3,
   "metadata": {},
   "outputs": [
    {
     "name": "stdout",
     "output_type": "stream",
     "text": [
      "Product: pork\n",
      "Raw file name: (중)경략가격집계 - 소,돼지\n",
      "Product_type: 돼지 온도체\n",
      "target: MAX_COST_AMT\n"
     ]
    }
   ],
   "source": [
    "n = 0\n",
    "experiment = all_experiments[n]\n",
    "product, raw_file_name, product_type, target = experiment\n",
    "print(f\"Product: {product}\\nRaw file name: {raw_file_name}\\nProduct_type: {product_type}\\ntarget: {target}\")"
   ]
  },
  {
   "cell_type": "code",
   "execution_count": 4,
   "metadata": {},
   "outputs": [],
   "source": [
    "df, product_and_product_type, product_attribute = dataManager(raw_file_name, product, product_type, target)\n",
    "\n",
    "if len(df) == 0:\n",
    "    raise ValueError(\"No data!\")\n"
   ]
  },
  {
   "cell_type": "code",
   "execution_count": 5,
   "metadata": {},
   "outputs": [
    {
     "name": "stdout",
     "output_type": "stream",
     "text": [
      "\n",
      "-->Feature scores:\n",
      "                 Features        Scores\n",
      "6  DEFECT_MAX_COST_AMT  6.811574e+10\n",
      "1         MIN_COST_AMT  1.222592e+04\n",
      "5  DEFECT_MIN_COST_AMT  1.222443e+04\n",
      "2         SUM_COST_AMT  4.538033e+02\n",
      "7  DEFECT_SUM_COST_AMT  4.537454e+02\n",
      "8    DEFECT_SUM_WEIGHT  2.279391e+01\n",
      "3           SUM_WEIGHT  2.277102e+01\n",
      "4           DEFECT_CNT  1.084715e+01\n",
      "0                  CNT  1.083094e+01\n",
      "\n",
      "-->TOP K features:\n",
      "   ['MIN_COST_AMT', 'SUM_COST_AMT', 'DEFECT_MIN_COST_AMT', 'DEFECT_MAX_COST_AMT']\n",
      "\n",
      "-->Final features:\n",
      "  ['MIN_COST_AMT', 'SUM_COST_AMT']\n"
     ]
    }
   ],
   "source": [
    "data, input_features = preprocessData(df, 'date', target)"
   ]
  },
  {
   "cell_type": "code",
   "execution_count": 12,
   "metadata": {},
   "outputs": [],
   "source": [
    "from sklearn.ensemble import IsolationForest\n",
    "import matplotlib.pyplot as plt\n",
    "\n",
    "def removeOutliers(dataframe, test_size, target_col, vis=True, **params):\n",
    "    data = dataframe.copy()\n",
    "\n",
    "    test_size = floor(len(data) * test_size) if type(test_size) == float else test_size\n",
    "    training_data = data[:-1*test_size]\n",
    "    training_idxs = training_data.index\n",
    "\n",
    "    n_estimators = params.get('n_estimators') if params.get('n_estimators') else 100\n",
    "    contamination = params.get('contamination') if params.get('contamination') else 0.03\n",
    "    \n",
    "    iforest = IsolationForest(n_estimators=n_estimators, contamination=contamination, max_samples='auto')\n",
    "    prediction = iforest.fit_predict(training_data[[target_col]])\n",
    "\n",
    "    print(\"Number of outliers detected: {}\".format(prediction[prediction < 0].sum()))\n",
    "    print(\"Number of normal samples detected: {}\".format(prediction[prediction > 0].sum()))\n",
    "\n",
    "    if vis:\n",
    "        normals = []\n",
    "        outliers = []\n",
    "        for value, label in zip(training_data[target_col].values, prediction):\n",
    "            if label not in [1, -1]:\n",
    "                print(label)\n",
    "            if label == 1:\n",
    "                normals.append(value)\n",
    "                outliers.append(None)\n",
    "            elif label == -1:\n",
    "                normals.append(None)\n",
    "                outliers.append(value)\n",
    "        plt.figure(figsize=(12,7))\n",
    "        plt.plot(normals, label='normal')\n",
    "        plt.plot(outliers, label='outlier')\n",
    "        plt.legend()\n",
    "        plt.show()\n",
    "    \n",
    "    for idx, label in zip(training_idxs, prediction):\n",
    "        if label == -1:\n",
    "            data.loc[idx, target_col] = np.nan\n",
    "\n",
    "    data[target_col] = data[target_col].interpolate(method='linear', limit_direction='both')\n",
    "\n",
    "    return data\n"
   ]
  }
 ],
 "metadata": {
  "kernelspec": {
   "display_name": "Python 3.7.6 64-bit",
   "language": "python",
   "name": "python3"
  },
  "language_info": {
   "codemirror_mode": {
    "name": "ipython",
    "version": 3
   },
   "file_extension": ".py",
   "mimetype": "text/x-python",
   "name": "python",
   "nbconvert_exporter": "python",
   "pygments_lexer": "ipython3",
   "version": "3.7.6"
  },
  "orig_nbformat": 4,
  "vscode": {
   "interpreter": {
    "hash": "6f774c96c8c34c53ecd4c73b34542f198e825b7806220478caf5e39d6877a780"
   }
  }
 },
 "nbformat": 4,
 "nbformat_minor": 2
}
